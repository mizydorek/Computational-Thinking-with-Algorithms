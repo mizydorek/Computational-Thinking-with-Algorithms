{
 "metadata": {
  "language_info": {
   "codemirror_mode": {
    "name": "ipython",
    "version": 3
   },
   "file_extension": ".py",
   "mimetype": "text/x-python",
   "name": "python",
   "nbconvert_exporter": "python",
   "pygments_lexer": "ipython3",
   "version": "3.9.0-final"
  },
  "orig_nbformat": 2,
  "kernelspec": {
   "name": "python3",
   "display_name": "Python 3.9.0 64-bit",
   "metadata": {
    "interpreter": {
     "hash": "3ee23a5df1e42c0866af1bc156f33b0e74320a58edd3956f52bd54dba858fc5a"
    }
   }
  }
 },
 "nbformat": 4,
 "nbformat_minor": 2,
 "cells": [
  {
   "cell_type": "code",
   "execution_count": 22,
   "metadata": {},
   "outputs": [
    {
     "output_type": "execute_result",
     "data": {
      "text/plain": [
       "'ol'"
      ]
     },
     "metadata": {},
     "execution_count": 22
    }
   ],
   "source": [
    "\n",
    "def reverse(str):\n",
    "    output = ''\n",
    "    index = len(str)\n",
    "    while index:\n",
    "        index -= 1\n",
    "        output += str[index]\n",
    "    return output\n",
    "\n",
    "reverse('lo')"
   ]
  },
  {
   "cell_type": "code",
   "execution_count": 28,
   "metadata": {},
   "outputs": [
    {
     "output_type": "execute_result",
     "data": {
      "text/plain": [
       "'rotom'"
      ]
     },
     "metadata": {},
     "execution_count": 28
    }
   ],
   "source": [
    "def reverse(string):\n",
    "    if len(string) == 1 or string == '':\n",
    "        return string\n",
    "    else:\n",
    "        return string[-1] + reverse(string[:-1])\n",
    "\n",
    "reverse('motor')"
   ]
  },
  {
   "cell_type": "code",
   "execution_count": 11,
   "metadata": {},
   "outputs": [
    {
     "output_type": "execute_result",
     "data": {
      "text/plain": [
       "[5, 4, 3, 2, 1]"
      ]
     },
     "metadata": {},
     "execution_count": 11
    }
   ],
   "source": [
    "def replace(a):\n",
    "    end = len(a)\n",
    "    start = 0\n",
    "    while end > 0:\n",
    "        end -= 1\n",
    "        a[start], a[end] = a[end], a[start]\n",
    "        start += 1    \n",
    "    return a\n",
    "\n",
    "replace([1,2,3,4,5])"
   ]
  },
  {
   "cell_type": "code",
   "execution_count": 8,
   "metadata": {},
   "outputs": [
    {
     "output_type": "execute_result",
     "data": {
      "text/plain": [
       "[6, 5, 4, 3, 2, 1]"
      ]
     },
     "metadata": {},
     "execution_count": 8
    }
   ],
   "source": [
    "def replace(a):\n",
    "    if len(a) <= 1:\n",
    "        return a\n",
    "    else:\n",
    "        return [a[-1]] + replace(a[:-1])\n",
    "\n",
    "replace([1,2,3,4,5,6])"
   ]
  },
  {
   "cell_type": "code",
   "execution_count": 21,
   "metadata": {},
   "outputs": [
    {
     "output_type": "execute_result",
     "data": {
      "text/plain": [
       "False"
      ]
     },
     "metadata": {},
     "execution_count": 21
    }
   ],
   "source": [
    "# Checks whether element occurs in an unsorted array.\n",
    "\n",
    "def check(num, array):\n",
    "    for elem in array:\n",
    "        if elem == num:\n",
    "            return True\n",
    "    return False\n",
    "\n",
    "check(3,[2,5,6,8,1])"
   ]
  },
  {
   "cell_type": "code",
   "execution_count": 46,
   "metadata": {},
   "outputs": [
    {
     "output_type": "execute_result",
     "data": {
      "text/plain": [
       "True"
      ]
     },
     "metadata": {},
     "execution_count": 46
    }
   ],
   "source": [
    "def occur(num, a):\n",
    "    if a[0] == num:\n",
    "        return True\n",
    "    else:\n",
    "        return occur(a[:-1])\n",
    "    return false\n",
    "\n",
    "check(2, [2, 8, 5, 3, 1, 9, 6])"
   ]
  },
  {
   "cell_type": "code",
   "execution_count": 43,
   "metadata": {},
   "outputs": [
    {
     "output_type": "execute_result",
     "data": {
      "text/plain": [
       "15"
      ]
     },
     "metadata": {},
     "execution_count": 43
    }
   ],
   "source": [
    "# Computes sum of an array of numbers.\n",
    "\n",
    "def sum(a):\n",
    "    if len(a) == 1:\n",
    "        return a[0]\n",
    "    else:\n",
    "        return a[-1] + sum(a[:-1])\n",
    "\n",
    "sum([1,2,3,4,5])"
   ]
  },
  {
   "cell_type": "code",
   "execution_count": 22,
   "metadata": {},
   "outputs": [
    {
     "output_type": "stream",
     "name": "stdout",
     "text": [
      "1.7 µs ± 16.4 ns per loop (mean ± std. dev. of 7 runs, 1000000 loops each)\n"
     ]
    }
   ],
   "source": [
    "# Computes how many times substring appears in the string.\n",
    "# Iterative\n",
    "def find(sub, str):\n",
    "    length = len(sub)\n",
    "    count = 0\n",
    "    for char in range(len(str)-1):\n",
    "        if str[char:length] == sub:\n",
    "            count += 1\n",
    "        length += 1\n",
    "    return count\n",
    "\n",
    "find('he', 'her and herself')        "
   ]
  },
  {
   "cell_type": "code",
   "execution_count": 23,
   "metadata": {},
   "outputs": [
    {
     "output_type": "stream",
     "name": "stdout",
     "text": [
      "4.41 µs ± 39.8 ns per loop (mean ± std. dev. of 7 runs, 100000 loops each)\n"
     ]
    }
   ],
   "source": [
    "def search(sub,str):\n",
    "    if len(str) == 0 or len(sub) > len(str):\n",
    "        return 0 \n",
    "    elif sub == str[:len(sub)]:\n",
    "        return 1 + search(sub,str[1:])\n",
    "    else:\n",
    "        return search(sub,str[1:])\n",
    "\n",
    "search('he', 'her and herself') \n"
   ]
  },
  {
   "cell_type": "code",
   "execution_count": null,
   "metadata": {},
   "outputs": [],
   "source": []
  }
 ]
}