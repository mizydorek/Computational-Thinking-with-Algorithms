{
 "metadata": {
  "language_info": {
   "codemirror_mode": {
    "name": "ipython",
    "version": 3
   },
   "file_extension": ".py",
   "mimetype": "text/x-python",
   "name": "python",
   "nbconvert_exporter": "python",
   "pygments_lexer": "ipython3",
   "version": "3.8.2"
  },
  "orig_nbformat": 2,
  "kernelspec": {
   "name": "python382jvsc74a57bd031f2aee4e71d21fbe5cf8b01ff0e069b9275f58929596ceb00d14d90e3e16cd6",
   "display_name": "Python 3.8.2 64-bit"
  },
  "metadata": {
   "interpreter": {
    "hash": "31f2aee4e71d21fbe5cf8b01ff0e069b9275f58929596ceb00d14d90e3e16cd6"
   }
  }
 },
 "nbformat": 4,
 "nbformat_minor": 2,
 "cells": [
  {
   "source": [
    "### Sorting Algorithms\n",
    "\n",
    "—\n",
    "\n",
    "https://en.wikipedia.org/wiki/Sorting_algorithm\n",
    "\n",
    "https://www.khanacademy.org/computing/computer-science/algorithms"
   ],
   "cell_type": "markdown",
   "metadata": {}
  },
  {
   "source": [
    "*** \n",
    "\n",
    "#### Bubble sort \n",
    "\n",
    "—\n",
    "\n",
    "https://en.wikipedia.org/wiki/Bubble_sort\n",
    "\n",
    "https://runestone.academy/runestone/books/published/pythonds/SortSearch/TheBubbleSort.html"
   ],
   "cell_type": "markdown",
   "metadata": {}
  },
  {
   "cell_type": "code",
   "execution_count": 1,
   "metadata": {},
   "outputs": [
    {
     "output_type": "execute_result",
     "data": {
      "text/plain": [
       "[1, 2, 3, 5, 7]"
      ]
     },
     "metadata": {},
     "execution_count": 1
    }
   ],
   "source": [
    "# Bubble sort algorithm implementation.\n",
    "def bubbleSort(a):\n",
    "    # loops through from last to the first index of the element in an array.\n",
    "    for outer in range(len(a)-1,0,-1):\n",
    "        # loops up to the current index of the element in an array.\n",
    "        for inner in range(outer): \n",
    "            # compares if the current element is greater than the adjacent element.       \n",
    "            if a[inner] > a[inner+1]:\n",
    "                # If so, swap elements.\n",
    "                a[inner], a[inner+1] = a[inner+1], a[inner]\n",
    "    return a\n",
    "    \n",
    "bubbleSort([7,5,2,3,1])"
   ]
  },
  {
   "source": [
    "*** \n",
    "\n",
    "#### Selection sort \n",
    "\n",
    "—\n",
    "\n",
    "https://en.wikipedia.org/wiki/Selection_sort\n",
    "\n",
    "https://runestone.academy/runestone/books/published/pythonds/SortSearch/TheSelectionSort.html"
   ],
   "cell_type": "markdown",
   "metadata": {}
  },
  {
   "cell_type": "code",
   "execution_count": 3,
   "metadata": {},
   "outputs": [
    {
     "output_type": "execute_result",
     "data": {
      "text/plain": [
       "[1, 2, 3, 5, 7]"
      ]
     },
     "metadata": {},
     "execution_count": 3
    }
   ],
   "source": [
    "def selectionSort(a):\n",
    "    for outer in range(len(a)):\n",
    "        min = outer\n",
    "        for inner in range(outer+1,len(a)):\n",
    "            if a[min] > a[inner]:\n",
    "                min = inner\n",
    "        a[outer], a[min] = a[min], a[outer]\n",
    "    return a\n",
    "    \n",
    "selectionSort([7,5,2,3,1])"
   ]
  },
  {
   "source": [
    "*** \n",
    "\n",
    "#### Insertion sort\n",
    "\n",
    "—\n",
    "\n",
    "https://en.wikipedia.org/wiki/Insertion_sort\n",
    "\n",
    "https://runestone.academy/runestone/books/published/pythonds/SortSearch/TheInsertionSort.html"
   ],
   "cell_type": "markdown",
   "metadata": {}
  },
  {
   "cell_type": "code",
   "execution_count": 2,
   "metadata": {
    "tags": []
   },
   "outputs": [
    {
     "output_type": "execute_result",
     "data": {
      "text/plain": [
       "[1, 2, 3, 5, 7]"
      ]
     },
     "metadata": {},
     "execution_count": 2
    }
   ],
   "source": [
    "# Insertion sort implementation.\n",
    "def insertionSort(a):\n",
    "    # loops through an input array, starting from a[1] element and stores as a key.\n",
    "    for key in range(1,len(a)):\n",
    "        # runs an inner loop up to the key position\n",
    "        for inner in range(key-1, -1, -1):\n",
    "            # compares if the key element is smaller than the previous elements.  \n",
    "            if a[inner] > a[key]:\n",
    "                # if so, swap them around.\n",
    "                a[key], a[inner] = a[inner], a[key]\n",
    "                key -= 1\n",
    "    return a\n",
    "    \n",
    "insertionSort([7,5,3,2,1])"
   ]
  },
  {
   "source": [
    "*** \n",
    "\n",
    "#### Merge sort\n",
    "\n",
    "—\n",
    "\n",
    "https://en.wikipedia.org/wiki/Merge_sort\n",
    "\n",
    "https://runestone.academy/runestone/books/published/pythonds/SortSearch/TheMergeSort.html"
   ],
   "cell_type": "markdown",
   "metadata": {}
  },
  {
   "cell_type": "code",
   "execution_count": 5,
   "metadata": {},
   "outputs": [
    {
     "output_type": "execute_result",
     "data": {
      "text/plain": [
       "[1, 2, 3, 5, 7]"
      ]
     },
     "metadata": {},
     "execution_count": 5
    }
   ],
   "source": [
    "# Merge sort algorithm implementation.\n",
    "def mergeSort(a):\n",
    "    # checks if the length of an array is less than or equal to 1 and returns an array.\n",
    "    if len(a) <= 1:\n",
    "        return a\n",
    "    else:\n",
    "        # runs the integer division on the length of the array to find approximate half.\n",
    "        half = len(a) // 2\n",
    "        # uses the half to split up an array and assigns both halves to accordingly left and right arrays.\n",
    "        left = a[:half]\n",
    "        right = a[half:]\n",
    "        # runs recursively merge sort function on both left and right arrays.\n",
    "        mergeSort(left)\n",
    "        mergeSort(right)\n",
    "\n",
    "        # sets indexes to 0.\n",
    "        l, r, i = 0, 0, 0\n",
    "\n",
    "        # runs loop until we reach the end of elements in either left or right array and place them in the right order. \n",
    "        while l < len(left) and r < len(right):\n",
    "            if left[l] <= right[r]:\n",
    "                a[i] = left[l]\n",
    "                l += 1\n",
    "            else:\n",
    "                a[i] = right[r]\n",
    "                r += 1\n",
    "            i += 1\n",
    "            \n",
    "        # runs loop when run out of elements in either left or right to pick up the remaining elements from either left or right array.\n",
    "        while l < len(left):\n",
    "            a[i] = left[l]\n",
    "            l += 1\n",
    "            i += 1\n",
    "        while r < len(right):\n",
    "            a[i] = right[r]\n",
    "            r += 1\n",
    "            i += 1\n",
    "    return a\n",
    "\n",
    "mergeSort([7,5,3,2,1])"
   ]
  },
  {
   "source": [
    "*** \n",
    "\n",
    "#### Quicksort\n",
    "\n",
    "—\n",
    "\n",
    "https://en.wikipedia.org/wiki/Quicksort\n",
    "\n",
    "https://runestone.academy/runestone/books/published/pythonds/SortSearch/TheQuickSort.html"
   ],
   "cell_type": "markdown",
   "metadata": {}
  },
  {
   "cell_type": "code",
   "execution_count": 9,
   "metadata": {},
   "outputs": [
    {
     "output_type": "execute_result",
     "data": {
      "text/plain": [
       "[1, 2, 3, 4, 5, 6, 7, 8, 9]"
      ]
     },
     "metadata": {},
     "execution_count": 9
    }
   ],
   "source": [
    "# Quicksort algorithm implementation.\n",
    "def quickSort(a):\n",
    "    # checks if the length of an array is less than or equal to 1 and returns an array.\n",
    "    if len(a) <= 1:\n",
    "        return a\n",
    "    else:\n",
    "        # sets pivot to the first element of an array.\n",
    "        pivot = a[0]\n",
    "        # # fills in a less array with elements less than or equals to pivot and a greater array with elements greater than the pivot.\n",
    "        less = [ i for i in a[1:] if i <= pivot ]\n",
    "        greater = [ i for i in a[1:] if i > pivot ]\n",
    "    # return both of the arrays and pivot element and runs recursively quicksort function on both less and greater arrays.\n",
    "    return quickSort(less) + [ pivot ] + quickSort(greater)\n",
    "    \n",
    "\n",
    "a = [7,9,3,6,2,1,8,4,5]\n",
    "quickSort(a)\n"
   ]
  },
  {
   "source": [
    "*** \n",
    "\n",
    "#### Counting sort\n",
    "\n",
    "—\n",
    "\n",
    "https://en.wikipedia.org/wiki/Counting_sort\n",
    "\n",
    "https://www.programiz.com/dsa/counting-sort"
   ],
   "cell_type": "markdown",
   "metadata": {}
  },
  {
   "cell_type": "code",
   "execution_count": 10,
   "metadata": {},
   "outputs": [
    {
     "output_type": "execute_result",
     "data": {
      "text/plain": [
       "[1, 2, 2, 2, 3, 3, 4, 5, 6, 8, 8, 9]"
      ]
     },
     "metadata": {},
     "execution_count": 10
    }
   ],
   "source": [
    "# Counting sort algorithm implementation.\n",
    "def countingSort(a):\n",
    "    # Finds max element of the array.\n",
    "    max = a[0]\n",
    "    for i in a:\n",
    "        if i > max:\n",
    "            max = i\n",
    "\n",
    "    # Initiation of count and output arrays and sets index to 0. \n",
    "    count = [0] * (max + 1)\n",
    "    index = 0\n",
    "    output = [0] * len(a)\n",
    "\n",
    "    # fills in a count array with a number of elements occurrence.\n",
    "    for i in a:\n",
    "        num = a.count(i)\n",
    "        count[i] = num\n",
    "\n",
    "    # builds up the output array by adding elements according to their indexes.\n",
    "    for i in range(len(count)):\n",
    "        while count[i] > 0:\n",
    "            output[index] = i\n",
    "            index += 1\n",
    "            count[i] -= 1 \n",
    "\n",
    "    return output\n",
    "\n",
    "countingSort([4,2,2,8,3,3,1,5,6,8,9,2])"
   ]
  },
  {
   "source": [
    "*** \n",
    "\n",
    "#### Bucket sort\n",
    "\n",
    "—\n",
    "\n",
    "https://en.wikipedia.org/wiki/Bucket_sort\n",
    "\n",
    "https://www.programiz.com/dsa/bucket-sort\n",
    "\n"
   ],
   "cell_type": "markdown",
   "metadata": {}
  }
 ]
}