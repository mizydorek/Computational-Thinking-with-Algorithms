{
 "metadata": {
  "language_info": {
   "codemirror_mode": {
    "name": "ipython",
    "version": 3
   },
   "file_extension": ".py",
   "mimetype": "text/x-python",
   "name": "python",
   "nbconvert_exporter": "python",
   "pygments_lexer": "ipython3",
   "version": "3.9.0-final"
  },
  "orig_nbformat": 2,
  "kernelspec": {
   "name": "python3",
   "display_name": "Python 3.9.0 64-bit ('venv')",
   "metadata": {
    "interpreter": {
     "hash": "c4bf02fa0d2d8d79f40f4e9377b744e8be0d12e17a9fb69fc695f26879842d79"
    }
   }
  }
 },
 "nbformat": 4,
 "nbformat_minor": 2,
 "cells": [
  {
   "source": [
    "### Sorting Algorithms\n",
    "\n",
    "—\n",
    "\n",
    "https://en.wikipedia.org/wiki/Sorting_algorithm\n",
    "\n",
    "https://www.khanacademy.org/computing/computer-science/algorithms"
   ],
   "cell_type": "markdown",
   "metadata": {}
  },
  {
   "source": [
    "*** \n",
    "\n",
    "#### Bubble sort \n",
    "\n",
    "—\n",
    "\n",
    "https://en.wikipedia.org/wiki/Bubble_sort\n",
    "\n",
    "https://runestone.academy/runestone/books/published/pythonds/SortSearch/TheBubbleSort.html"
   ],
   "cell_type": "markdown",
   "metadata": {}
  },
  {
   "cell_type": "code",
   "execution_count": 105,
   "metadata": {},
   "outputs": [
    {
     "output_type": "stream",
     "name": "stdout",
     "text": [
      "[7, 5, 2, 3, 1]\nIndex: 4\n     Swapping 7 and 5\n     [5, 7, 2, 3, 1]\n     Swapping 7 and 2\n     [5, 2, 7, 3, 1]\n     Swapping 7 and 3\n     [5, 2, 3, 7, 1]\n     Swapping 7 and 1\n     [5, 2, 3, 1, 7]\nIndex: 3\n     Swapping 5 and 2\n     [2, 5, 3, 1, 7]\n     Swapping 5 and 3\n     [2, 3, 5, 1, 7]\n     Swapping 5 and 1\n     [2, 3, 1, 5, 7]\nIndex: 2\n     Swapping 3 and 1\n     [2, 1, 3, 5, 7]\nIndex: 1\n     Swapping 2 and 1\n     [1, 2, 3, 5, 7]\n"
     ]
    },
    {
     "output_type": "execute_result",
     "data": {
      "text/plain": [
       "[1, 2, 3, 5, 7]"
      ]
     },
     "metadata": {},
     "execution_count": 105
    }
   ],
   "source": [
    "def bubbleSort(a):\n",
    "    print(a)\n",
    "    for outer in range(len(a)-1,0,-1):\n",
    "        print('Index: {}'.format(outer))\n",
    "        for inner in range(outer):         \n",
    "            if a[inner] > a[inner+1]:\n",
    "                print('     Swapping {} and {}'.format(a[inner],a[inner+1]))\n",
    "                a[inner], a[inner+1] = a[inner+1], a[inner]\n",
    "                print('     '+str(a))\n",
    "\n",
    "    return a\n",
    "    \n",
    "bubbleSort([7,5,2,3,1])"
   ]
  },
  {
   "source": [
    "*** \n",
    "\n",
    "#### Selection sort \n",
    "\n",
    "—\n",
    "\n",
    "https://en.wikipedia.org/wiki/Selection_sort\n",
    "\n",
    "https://runestone.academy/runestone/books/published/pythonds/SortSearch/TheSelectionSort.html"
   ],
   "cell_type": "markdown",
   "metadata": {}
  },
  {
   "cell_type": "code",
   "execution_count": 113,
   "metadata": {},
   "outputs": [
    {
     "output_type": "stream",
     "name": "stdout",
     "text": [
      "Index: 0\n     1\n     Swapping 7 and 1\n     [1, 5, 2, 3, 7]\nIndex: 1\n     2\n     Swapping 5 and 2\n     [1, 2, 5, 3, 7]\nIndex: 2\n     3\n     Swapping 5 and 3\n     [1, 2, 3, 5, 7]\nIndex: 3\n     5\n     Swapping 5 and 5\n     [1, 2, 3, 5, 7]\nIndex: 4\n     7\n     Swapping 7 and 7\n     [1, 2, 3, 5, 7]\n"
     ]
    },
    {
     "output_type": "execute_result",
     "data": {
      "text/plain": [
       "[1, 2, 3, 5, 7]"
      ]
     },
     "metadata": {},
     "execution_count": 113
    }
   ],
   "source": [
    "def selectionSort(a):\n",
    "    for outer in range(len(a)):\n",
    "        print('Index: {}'.format(outer))\n",
    "        min = outer\n",
    "        for inner in range(outer+1,len(a)):\n",
    "            if a[min] > a[inner]:\n",
    "                min = inner\n",
    "        print('     '+str(a[min]))\n",
    "        print('     Swapping {} and {}'.format(a[outer],a[min]))\n",
    "        a[outer], a[min] = a[min], a[outer]\n",
    "        print('     '+str(a))\n",
    "\n",
    "    return a\n",
    "    \n",
    "selectionSort([7,5,2,3,1])"
   ]
  },
  {
   "source": [
    "*** \n",
    "\n",
    "#### Insertion sort\n",
    "\n",
    "—\n",
    "\n",
    "https://en.wikipedia.org/wiki/Insertion_sort\n",
    "\n",
    "https://runestone.academy/runestone/books/published/pythonds/SortSearch/TheInsertionSort.html"
   ],
   "cell_type": "markdown",
   "metadata": {}
  },
  {
   "cell_type": "code",
   "execution_count": 91,
   "metadata": {
    "tags": []
   },
   "outputs": [
    {
     "output_type": "stream",
     "name": "stdout",
     "text": [
      "[7, 5, 3, 2, 1]\nIndex: 1\nValue: 5\n     Swapping 7 and 5\n     [5, 7, 3, 2, 1]\nIndex: 2\nValue: 3\n     Swapping 7 and 3\n     [5, 3, 7, 2, 1]\n     Swapping 5 and 3\n     [3, 5, 7, 2, 1]\nIndex: 3\nValue: 2\n     Swapping 7 and 2\n     [3, 5, 2, 7, 1]\n     Swapping 5 and 2\n     [3, 2, 5, 7, 1]\n     Swapping 3 and 2\n     [2, 3, 5, 7, 1]\nIndex: 4\nValue: 1\n     Swapping 7 and 1\n     [2, 3, 5, 1, 7]\n     Swapping 5 and 1\n     [2, 3, 1, 5, 7]\n     Swapping 3 and 1\n     [2, 1, 3, 5, 7]\n     Swapping 2 and 1\n     [1, 2, 3, 5, 7]\n"
     ]
    },
    {
     "output_type": "execute_result",
     "data": {
      "text/plain": [
       "[1, 2, 3, 5, 7]"
      ]
     },
     "metadata": {},
     "execution_count": 91
    }
   ],
   "source": [
    "def insertionSort(a):\n",
    "    print(a)\n",
    "    for outer in range(1,len(a)):\n",
    "        print('Index: {}'.format(outer))\n",
    "        key = outer\n",
    "        print('Value: {}'.format(a[outer]))\n",
    "        for inner in range(outer-1,-1,-1):\n",
    "            if a[inner] > a[outer]:\n",
    "                print('     Swapping {} and {}'.format(a[inner],a[outer]))\n",
    "                a[outer], a[inner] = a[inner], a[outer]\n",
    "                outer -= 1\n",
    "                print('     '+str(a))\n",
    "\n",
    "    return a\n",
    "    \n",
    "insertionSort([7,5,3,2,1])"
   ]
  },
  {
   "cell_type": "code",
   "execution_count": null,
   "metadata": {},
   "outputs": [],
   "source": []
  }
 ]
}