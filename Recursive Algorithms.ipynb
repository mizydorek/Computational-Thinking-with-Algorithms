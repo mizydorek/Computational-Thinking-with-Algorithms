{
 "metadata": {
  "language_info": {
   "codemirror_mode": {
    "name": "ipython",
    "version": 3
   },
   "file_extension": ".py",
   "mimetype": "text/x-python",
   "name": "python",
   "nbconvert_exporter": "python",
   "pygments_lexer": "ipython3",
   "version": "3.9.0-final"
  },
  "orig_nbformat": 2,
  "kernelspec": {
   "name": "python3",
   "display_name": "Python 3",
   "language": "python"
  }
 },
 "nbformat": 4,
 "nbformat_minor": 2,
 "cells": [
  {
   "source": [
    "### Recursive Algorithms\n",
    "\n",
    "—\n",
    "\n",
    "https://en.wikipedia.org/wiki/Recursion_(computer_science)\n",
    "\n",
    "https://www.khanacademy.org/computing/computer-science/algorithms/recursive-algorithms/a/recursion"
   ],
   "cell_type": "markdown",
   "metadata": {}
  },
  {
   "source": [
    "\n",
    "*** \n",
    "\n",
    "#### Factorial \n",
    "\n",
    "n! = n * (n-1) * (n-2) * (n-3) * ... * 1\n",
    "\n",
    "Factorial - https://en.wikipedia.org/wiki/Factorial"
   ],
   "cell_type": "markdown",
   "metadata": {}
  },
  {
   "cell_type": "code",
   "execution_count": 1,
   "metadata": {},
   "outputs": [
    {
     "output_type": "execute_result",
     "data": {
      "text/plain": [
       "120"
      ]
     },
     "metadata": {},
     "execution_count": 1
    }
   ],
   "source": [
    "# Iterative implementation\n",
    "def factorial(n):\n",
    "    answer = 1 \n",
    "    while n > 1:\n",
    "        answer *= n\n",
    "        n -= 1\n",
    "    return answer\n",
    "\n",
    "\n",
    "factorial(5)"
   ]
  },
  {
   "cell_type": "code",
   "execution_count": 2,
   "metadata": {},
   "outputs": [
    {
     "output_type": "execute_result",
     "data": {
      "text/plain": [
       "120"
      ]
     },
     "metadata": {},
     "execution_count": 2
    }
   ],
   "source": [
    "# Recursive implementation\n",
    "def factorial_rec(n):\n",
    "    if n <= 1:\n",
    "        return 1\n",
    "    else:\n",
    "        return n * factorial_rec(n-1)\n",
    "\n",
    "factorial_rec(5)"
   ]
  },
  {
   "source": [
    "\n",
    "***\n",
    "#### Greatest common divisor \n",
    "\n",
    "GCD of two integers which divides into both numbers without leaving a reminder\n",
    "\n",
    "Greatest common divisor - https://en.wikipedia.org/wiki/Greatest_common_divisor"
   ],
   "cell_type": "markdown",
   "metadata": {}
  },
  {
   "cell_type": "code",
   "execution_count": 3,
   "metadata": {},
   "outputs": [
    {
     "output_type": "execute_result",
     "data": {
      "text/plain": [
       "7"
      ]
     },
     "metadata": {},
     "execution_count": 3
    }
   ],
   "source": [
    "# Iterative implementation\n",
    "def gcd(a, b):\n",
    "    while b != 0:\n",
    "        temp = b\n",
    "        b = a % b \n",
    "        a = temp\n",
    "    return a\n",
    "\n",
    "gcd(35,49)"
   ]
  },
  {
   "cell_type": "code",
   "execution_count": 4,
   "metadata": {},
   "outputs": [
    {
     "output_type": "execute_result",
     "data": {
      "text/plain": [
       "7"
      ]
     },
     "metadata": {},
     "execution_count": 4
    }
   ],
   "source": [
    "# Recursive implementation\n",
    "def euclid(a,b):\n",
    "    if b == 0: \n",
    "        return a\n",
    "    else:\n",
    "        return euclid(b, a % b)\n",
    "\n",
    "euclid(35, 49)"
   ]
  },
  {
   "source": [
    "***\n",
    "#### Fibonacci number\n",
    "\n",
    "$ F_{0}=0,\\quad F_{1}=1 $\n",
    "\n",
    "$ F_{n}=F_{n-1}+F_{n-2} $ for $ n > 1 $\n",
    "\n",
    "Fibonacci number - https://en.wikipedia.org/wiki/Fibonacci_number"
   ],
   "cell_type": "markdown",
   "metadata": {}
  },
  {
   "cell_type": "code",
   "execution_count": 5,
   "metadata": {},
   "outputs": [
    {
     "output_type": "execute_result",
     "data": {
      "text/plain": [
       "55"
      ]
     },
     "metadata": {},
     "execution_count": 5
    }
   ],
   "source": [
    "# Iterative implementation\n",
    "def fib(n):\n",
    "    f0, f1 = 0, 1\n",
    "    while n > 1:\n",
    "        fn = f0 + f1\n",
    "        f0 = f1\n",
    "        f1 = fn \n",
    "        n -= 1\n",
    "    return fn\n",
    "\n",
    "fib(10)"
   ]
  },
  {
   "cell_type": "code",
   "execution_count": 6,
   "metadata": {},
   "outputs": [
    {
     "output_type": "execute_result",
     "data": {
      "text/plain": [
       "55"
      ]
     },
     "metadata": {},
     "execution_count": 6
    }
   ],
   "source": [
    "# Recursive implementation\n",
    "def fibo(n):\n",
    "    if n == 0 or n == 1:\n",
    "        return n\n",
    "    else:\n",
    "        return fibo(n - 1) + fibo(n - 2)\n",
    "\n",
    "fibo(10)"
   ]
  },
  {
   "source": [
    "***\n",
    "#### Palindrome\n",
    "\n",
    "Palindrome - https://en.wikipedia.org/wiki/Palindrome"
   ],
   "cell_type": "markdown",
   "metadata": {}
  },
  {
   "cell_type": "code",
   "execution_count": 7,
   "metadata": {},
   "outputs": [
    {
     "output_type": "execute_result",
     "data": {
      "text/plain": [
       "True"
      ]
     },
     "metadata": {},
     "execution_count": 7
    }
   ],
   "source": [
    "# Recursive implementation\n",
    "def palindrome(text):\n",
    "    if len(text) <= 1:\n",
    "        return True\n",
    "    elif text[0] == text[-1]:\n",
    "        return palindrome(text[1:-1])\n",
    "    else: \n",
    "        return False\n",
    "        \n",
    "palindrome('anutforajaroftuna')"
   ]
  },
  {
   "source": [
    "*** \n",
    "#### Prime numbers\n",
    "\n",
    "Prime numbers - https://en.wikipedia.org/wiki/Prime_number"
   ],
   "cell_type": "markdown",
   "metadata": {}
  },
  {
   "cell_type": "code",
   "execution_count": 35,
   "metadata": {},
   "outputs": [
    {
     "output_type": "execute_result",
     "data": {
      "text/plain": [
       "[2, 3, 5, 7, 11, 13, 17, 19, 23]"
      ]
     },
     "metadata": {},
     "execution_count": 35
    }
   ],
   "source": [
    "def prime(num):\n",
    "    l = []\n",
    "    for p in range(2, num):\n",
    "        count = 0 \n",
    "        for d in range(1, p + 1):\n",
    "            if p % d == 0:\n",
    "                count += 1\n",
    "        if count == 2:\n",
    "            l.append(p)\n",
    "    return l\n",
    "\n",
    "prime(25)"
   ]
  },
  {
   "source": [
    "***\n",
    "#### Power\n",
    "\n",
    "Power - https://en.wikipedia.org/wiki/Exponentiation\n",
    "\n",
    "https://www.khanacademy.org/computing/computer-science/algorithms/recursive-algorithms/a/computing-powers-of-a-number"
   ],
   "cell_type": "markdown",
   "metadata": {}
  },
  {
   "cell_type": "code",
   "execution_count": 4,
   "metadata": {},
   "outputs": [
    {
     "output_type": "execute_result",
     "data": {
      "text/plain": [
       "16"
      ]
     },
     "metadata": {},
     "execution_count": 4
    }
   ],
   "source": [
    "def power(x,n):\n",
    "    if n == 0:\n",
    "        return 1\n",
    "    elif n < 0:\n",
    "        return 1 / power(x, abs(n))\n",
    "    elif n % 2 == 0:    # n positiv even\n",
    "        return power(x,n/2) * power(x, n/2)\n",
    "    else:   # n positive odd\n",
    "        return x * power(x, n-1)\n",
    "\n",
    "power(2, 4)"
   ]
  }
 ]
}