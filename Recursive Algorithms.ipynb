{
 "metadata": {
  "language_info": {
   "codemirror_mode": {
    "name": "ipython",
    "version": 3
   },
   "file_extension": ".py",
   "mimetype": "text/x-python",
   "name": "python",
   "nbconvert_exporter": "python",
   "pygments_lexer": "ipython3",
   "version": "3.9.0-final"
  },
  "orig_nbformat": 2,
  "kernelspec": {
   "name": "python3",
   "display_name": "Python 3.9.0 64-bit",
   "metadata": {
    "interpreter": {
     "hash": "3ee23a5df1e42c0866af1bc156f33b0e74320a58edd3956f52bd54dba858fc5a"
    }
   }
  }
 },
 "nbformat": 4,
 "nbformat_minor": 2,
 "cells": [
  {
   "source": [
    "### Recursive Algorithms\n",
    "\n",
    "—\n",
    "\n",
    "(https://en.wikipedia.org/wiki/Recursion_(computer_science))\n",
    "(https://www.khanacademy.org/computing/computer-science/algorithms/recursive-algorithms/a/recursion)\n",
    "\n"
   ],
   "cell_type": "markdown",
   "metadata": {}
  }
 ]
}