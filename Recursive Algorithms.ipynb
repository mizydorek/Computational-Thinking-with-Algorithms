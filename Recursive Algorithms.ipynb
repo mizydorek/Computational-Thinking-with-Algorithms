{
 "metadata": {
  "language_info": {
   "codemirror_mode": {
    "name": "ipython",
    "version": 3
   },
   "file_extension": ".py",
   "mimetype": "text/x-python",
   "name": "python",
   "nbconvert_exporter": "python",
   "pygments_lexer": "ipython3",
   "version": "3.9.0-final"
  },
  "orig_nbformat": 2,
  "kernelspec": {
   "name": "python3",
   "display_name": "Python 3.9.0 64-bit",
   "metadata": {
    "interpreter": {
     "hash": "3ee23a5df1e42c0866af1bc156f33b0e74320a58edd3956f52bd54dba858fc5a"
    }
   }
  }
 },
 "nbformat": 4,
 "nbformat_minor": 2,
 "cells": [
  {
   "source": [
    "### Recursive Algorithms\n",
    "\n",
    "—\n",
    "\n",
    "(https://en.wikipedia.org/wiki/Recursion_(computer_science))\n",
    "(https://www.khanacademy.org/computing/computer-science/algorithms/recursive-algorithms/a/recursion)\n",
    "\n"
   ],
   "cell_type": "markdown",
   "metadata": {}
  },
  {
   "source": [
    "\n",
    "*** \n",
    "\n",
    "#### Factorial \n",
    "\n",
    "n! = n * (n-1) * (n-2) * (n-3) * ... * 1\n",
    "\n",
    "Factorial - https://en.wikipedia.org/wiki/Factorial"
   ],
   "cell_type": "markdown",
   "metadata": {}
  },
  {
   "cell_type": "code",
   "execution_count": 3,
   "metadata": {},
   "outputs": [
    {
     "output_type": "execute_result",
     "data": {
      "text/plain": [
       "120"
      ]
     },
     "metadata": {},
     "execution_count": 3
    }
   ],
   "source": [
    "# Iterative implementation\n",
    "def factorial(n):\n",
    "    answer = 1 \n",
    "    while n > 1:\n",
    "        answer *= n\n",
    "        n -= 1\n",
    "    return answer\n",
    "\n",
    "\n",
    "factorial(5)"
   ]
  },
  {
   "cell_type": "code",
   "execution_count": 4,
   "metadata": {},
   "outputs": [
    {
     "output_type": "execute_result",
     "data": {
      "text/plain": [
       "120"
      ]
     },
     "metadata": {},
     "execution_count": 4
    }
   ],
   "source": [
    "# Recursive implementation\n",
    "def factorial_rec(n):\n",
    "    if n <= 1:\n",
    "        return 1\n",
    "    else:\n",
    "        return n * factorial_rec(n-1)\n",
    "\n",
    "factorial_rec(5)"
   ]
  },
  {
   "source": [
    "\n",
    "***\n",
    "#### Greatest common divisor \n",
    "\n",
    "GCD of two integers which divides into both numbers without leaving a reminder\n",
    "\n",
    "Greatest common divisor - https://en.wikipedia.org/wiki/Greatest_common_divisor"
   ],
   "cell_type": "markdown",
   "metadata": {}
  },
  {
   "cell_type": "code",
   "execution_count": 5,
   "metadata": {},
   "outputs": [
    {
     "output_type": "execute_result",
     "data": {
      "text/plain": [
       "7"
      ]
     },
     "metadata": {},
     "execution_count": 5
    }
   ],
   "source": [
    "# Iterative implementation\n",
    "def gcd(a, b):\n",
    "    while b != 0:\n",
    "        temp = b\n",
    "        b = a % b \n",
    "        a = temp\n",
    "    return a\n",
    "\n",
    "gcd(35,49)"
   ]
  },
  {
   "cell_type": "code",
   "execution_count": 6,
   "metadata": {},
   "outputs": [
    {
     "output_type": "execute_result",
     "data": {
      "text/plain": [
       "7"
      ]
     },
     "metadata": {},
     "execution_count": 6
    }
   ],
   "source": [
    "# Recursive implementation\n",
    "def euclid(a,b):\n",
    "    if b == 0: \n",
    "        return a\n",
    "    else:\n",
    "        return euclid(b, a % b)\n",
    "\n",
    "euclid(35, 49)"
   ]
  },
  {
   "cell_type": "code",
   "execution_count": null,
   "metadata": {},
   "outputs": [],
   "source": []
  }
 ]
}