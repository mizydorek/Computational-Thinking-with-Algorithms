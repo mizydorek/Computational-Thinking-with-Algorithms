{
 "metadata": {
  "language_info": {
   "codemirror_mode": {
    "name": "ipython",
    "version": 3
   },
   "file_extension": ".py",
   "mimetype": "text/x-python",
   "name": "python",
   "nbconvert_exporter": "python",
   "pygments_lexer": "ipython3",
   "version": "3.9.0-final"
  },
  "orig_nbformat": 2,
  "kernelspec": {
   "name": "python3",
   "display_name": "Python 3.9.0 64-bit",
   "metadata": {
    "interpreter": {
     "hash": "3ee23a5df1e42c0866af1bc156f33b0e74320a58edd3956f52bd54dba858fc5a"
    }
   }
  }
 },
 "nbformat": 4,
 "nbformat_minor": 2,
 "cells": [
  {
   "source": [
    "### Recursive Algorithms\n",
    "\n",
    "—\n",
    "\n",
    "(https://en.wikipedia.org/wiki/Recursion_(computer_science))\n",
    "(https://www.khanacademy.org/computing/computer-science/algorithms/recursive-algorithms/a/recursion)\n",
    "\n"
   ],
   "cell_type": "markdown",
   "metadata": {}
  },
  {
   "source": [
    "*** \n",
    "\n",
    "#### Factorial \n",
    "\n",
    "n! = n * (n-1) * (n-2) * (n-3) * ... * 1\n",
    "\n",
    "Factorial - https://en.wikipedia.org/wiki/Factorial"
   ],
   "cell_type": "markdown",
   "metadata": {}
  },
  {
   "cell_type": "code",
   "execution_count": 1,
   "metadata": {},
   "outputs": [
    {
     "output_type": "execute_result",
     "data": {
      "text/plain": [
       "120"
      ]
     },
     "metadata": {},
     "execution_count": 1
    }
   ],
   "source": [
    "# Iterative implementation\n",
    "def factorial(n):\n",
    "    answer = 1 \n",
    "    while n > 1:\n",
    "        answer *= n\n",
    "        n -= 1\n",
    "    return answer\n",
    "\n",
    "\n",
    "factorial(5)"
   ]
  },
  {
   "cell_type": "code",
   "execution_count": 2,
   "metadata": {},
   "outputs": [
    {
     "output_type": "execute_result",
     "data": {
      "text/plain": [
       "120"
      ]
     },
     "metadata": {},
     "execution_count": 2
    }
   ],
   "source": [
    "# Recursive implementation\n",
    "def factorial_rec(n):\n",
    "    if n <= 1:\n",
    "        return 1\n",
    "    else:\n",
    "        return n * factorial_rec(n-1)\n",
    "\n",
    "factorial_rec(5)\n"
   ]
  },
  {
   "cell_type": "code",
   "execution_count": null,
   "metadata": {},
   "outputs": [],
   "source": []
  }
 ]
}